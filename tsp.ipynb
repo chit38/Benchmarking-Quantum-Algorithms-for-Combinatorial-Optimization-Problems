{
 "metadata": {
  "language_info": {
   "codemirror_mode": {
    "name": "ipython",
    "version": 3
   },
   "file_extension": ".py",
   "mimetype": "text/x-python",
   "name": "python",
   "nbconvert_exporter": "python",
   "pygments_lexer": "ipython3",
   "version": "3.8.5-final"
  },
  "orig_nbformat": 2,
  "kernelspec": {
   "name": "python_defaultSpec_1599472042614",
   "display_name": "Python 3.8.5 64-bit"
  }
 },
 "nbformat": 4,
 "nbformat_minor": 2,
 "cells": [
  {
   "cell_type": "code",
   "execution_count": 1,
   "metadata": {},
   "outputs": [],
   "source": [
    "import numpy as np\n",
    "import random\n",
    "import time\n",
    "import matplotlib.pyplot as plt\n",
    "from qiskit import *\n",
    "from qiskit.optimization.applications.ising import tsp\n",
    "from qiskit.optimization.converters import IsingToQuadraticProgram\n",
    "from qiskit.optimization.algorithms import MinimumEigenOptimizer,GroverOptimizer\n",
    "from qiskit.aqua.algorithms import VQE, NumPyMinimumEigensolver\n",
    "from qiskit.aqua.components.optimizers import SPSA\n",
    "from qiskit.circuit.library import TwoLocal\n",
    "from qiskit.aqua import QuantumInstance\n",
    "from qiskit.optimization.applications.ising.common import sample_most_likely\n",
    "from qiskit.aqua.algorithms import QAOA\n",
    "from qiskit.optimization import QuadraticProgram\n",
    "from itertools import permutations"
   ]
  },
  {
   "cell_type": "code",
   "execution_count": 2,
   "metadata": {
    "tags": []
   },
   "outputs": [
    {
     "output_type": "execute_result",
     "data": {
      "text/plain": "(271.0, (0, 1, 2, 4, 3))"
     },
     "metadata": {},
     "execution_count": 2
    }
   ],
   "source": [
    "def brute_force_tsp(w, N):\n",
    "    a=list(permutations(range(1,N)))\n",
    "    last_best_distance = 1e10\n",
    "    for i in a:\n",
    "        distance = 0\n",
    "        pre_j = 0\n",
    "        for j in i:\n",
    "            distance = distance + w[j,pre_j]\n",
    "            pre_j = j\n",
    "        distance = distance + w[pre_j,0]\n",
    "        order = (0,) + i\n",
    "        if distance < last_best_distance:\n",
    "            best_order = order\n",
    "            last_best_distance = distance\n",
    "    return last_best_distance, best_order\n",
    "ins = tsp.random_tsp(5, seed=123)\n",
    "brute_force_tsp(ins.w, ins.dim)"
   ]
  },
  {
   "cell_type": "code",
   "execution_count": 3,
   "metadata": {},
   "outputs": [],
   "source": [
    "def get_qubo(ins):\n",
    "    qubitOp, offset = tsp.get_operator(ins)\n",
    "    qubo = QuadraticProgram()\n",
    "    qubo.from_ising(qubitOp, offset, linear=True)\n",
    "    return qubitOp, offset, qubo"
   ]
  },
  {
   "cell_type": "code",
   "execution_count": 7,
   "metadata": {},
   "outputs": [
    {
     "output_type": "execute_result",
     "data": {
      "text/plain": "optimal function value: 171.0\noptimal value: [0. 0. 1. 0. 0. 0. 0. 1. 1. 0. 0. 0. 0. 1. 0. 0.]\nstatus: SUCCESS"
     },
     "metadata": {},
     "execution_count": 7
    }
   ],
   "source": [
    "def result_exact(qubo):\n",
    "    exact_mes = NumPyMinimumEigensolver()\n",
    "    exact = MinimumEigenOptimizer(exact_mes)\n",
    "    exact_result = exact.solve(qubo)\n",
    "    return exact_result\n",
    "ins = tsp.random_tsp(4)\n",
    "qubitOp, offset, qubo = get_qubo(ins)\n",
    "result_exact(qubo)"
   ]
  },
  {
   "cell_type": "code",
   "execution_count": 6,
   "metadata": {},
   "outputs": [
    {
     "output_type": "execute_result",
     "data": {
      "text/plain": "200111.0"
     },
     "metadata": {},
     "execution_count": 6
    }
   ],
   "source": [
    "def result_qaoa(qubo):\n",
    "    qaoa_mes = QAOA(quantum_instance=BasicAer.get_backend('qasm_simulator'))\n",
    "    qaoa = MinimumEigenOptimizer(qaoa_mes)\n",
    "    qaoa_result = qaoa.solve(qubo)\n",
    "    return qaoa_result\n",
    "ins = tsp.random_tsp(3)\n",
    "qubitOp, offset ,qubo = get_qubo(ins)\n",
    "result_qaoa(qubo)"
   ]
  },
  {
   "cell_type": "code",
   "execution_count": null,
   "metadata": {},
   "outputs": [],
   "source": [
    "def using_vqe(qubitop,qubo):\n",
    "    seed = 10598\n",
    "    backend = Aer.get_backend('qasm_simulator')\n",
    "    quantum_instance = QuantumInstance(backend, seed_simulator=seed, seed_transpiler=seed)\n",
    "    spsa = SPSA(maxiter=300)\n",
    "    ry = TwoLocal(qubitop.num_qubits, 'ry', 'cz', reps=5, entanglement='linear')\n",
    "    vqe = VQE(qubitop, ry, spsa, quantum_instance=quantum_instance)\n",
    "    vqe_optimizer = MinimumEigenOptimizer(vqe)\n",
    "    result = vqe_optimizer.solve(qubo)\n",
    "    return result.fval\n",
    "ins = tsp.random_tsp(4, seed=123)\n",
    "qubitOp, offset ,qubo = get_qubo(ins)\n",
    "using_vqe(qubitOp, qubo)"
   ]
  },
  {
   "cell_type": "code",
   "execution_count": null,
   "metadata": {},
   "outputs": [],
   "source": []
  }
 ]
}