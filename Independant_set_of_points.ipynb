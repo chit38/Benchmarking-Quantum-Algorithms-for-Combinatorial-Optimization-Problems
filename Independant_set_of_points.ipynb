{
 "metadata": {
  "language_info": {
   "codemirror_mode": {
    "name": "ipython",
    "version": 3
   },
   "file_extension": ".py",
   "mimetype": "text/x-python",
   "name": "python",
   "nbconvert_exporter": "python",
   "pygments_lexer": "ipython3",
   "version": "3.8.5-final"
  },
  "orig_nbformat": 2,
  "kernelspec": {
   "name": "python_defaultSpec_1597986128497",
   "display_name": "Python 3.8.5 64-bit"
  }
 },
 "nbformat": 4,
 "nbformat_minor": 2,
 "cells": [
  {
   "cell_type": "code",
   "execution_count": 1,
   "metadata": {},
   "outputs": [],
   "source": [
    "import numpy as np\n",
    "import random\n",
    "from qiskit import *\n",
    "from qiskit import BasicAer\n",
    "from qiskit.aqua.algorithms import QAOA, NumPyMinimumEigensolver\n",
    "from qiskit.optimization.algorithms import MinimumEigenOptimizer, RecursiveMinimumEigenOptimizer\n",
    "from qiskit.optimization import QuadraticProgram"
   ]
  },
  {
   "cell_type": "code",
   "execution_count": 2,
   "metadata": {
    "tags": []
   },
   "outputs": [
    {
     "output_type": "execute_result",
     "data": {
      "text/plain": "array([[0., 1., 0., 0., 1.],\n       [1., 0., 1., 0., 0.],\n       [0., 1., 0., 1., 0.],\n       [0., 0., 1., 0., 0.],\n       [1., 0., 0., 0., 0.]])"
     },
     "metadata": {},
     "execution_count": 2
    }
   ],
   "source": [
    "def create_edge_matrix(number_of_points, probability):\n",
    "    edge_matrix = np.ones((number_of_points,number_of_points))\n",
    "    for i in range(0,number_of_points):\n",
    "        for j in range(i,number_of_points):\n",
    "            if random.random()>probability or i==j:\n",
    "                edge_matrix[i,j]=0\n",
    "                edge_matrix[j,i]=0\n",
    "    return edge_matrix\n",
    "\n",
    "create_edge_matrix(5, 0.5)"
   ]
  },
  {
   "cell_type": "code",
   "execution_count": 3,
   "metadata": {
    "tags": []
   },
   "outputs": [
    {
     "output_type": "execute_result",
     "data": {
      "text/plain": "(SummedOp([PauliOp(Pauli(z=[True, False, False, False, False], x=[False, False, False, False, False]), coeff=-9.5), PauliOp(Pauli(z=[False, True, False, False, False], x=[False, False, False, False, False]), coeff=-19.5), PauliOp(Pauli(z=[False, False, True, False, False], x=[False, False, False, False, False]), coeff=-9.5), PauliOp(Pauli(z=[False, False, False, True, False], x=[False, False, False, False, False]), coeff=-4.5), PauliOp(Pauli(z=[False, False, False, False, True], x=[False, False, False, False, False]), coeff=-14.5), PauliOp(Pauli(z=[True, True, False, False, False], x=[False, False, False, False, False]), coeff=5.0), PauliOp(Pauli(z=[False, True, True, False, False], x=[False, False, False, False, False]), coeff=5.0), PauliOp(Pauli(z=[False, True, False, True, False], x=[False, False, False, False, False]), coeff=5.0), PauliOp(Pauli(z=[True, False, False, False, True], x=[False, False, False, False, False]), coeff=5.0), PauliOp(Pauli(z=[False, True, False, False, True], x=[False, False, False, False, False]), coeff=5.0), PauliOp(Pauli(z=[False, False, True, False, True], x=[False, False, False, False, False]), coeff=5.0)], coeff=1.0, abelian=False),\n 27.5)"
     },
     "metadata": {},
     "execution_count": 3
    }
   ],
   "source": [
    "def Create_quadratic_program(n, edge_matrix):\n",
    "    qubo = QuadraticProgram()\n",
    "    linear_coefficients = list()\n",
    "    summation_terms = dict()\n",
    "    for i in range(n):\n",
    "        qubo.binary_var('x'+ str(i))\n",
    "        linear_coefficients.append(1)\n",
    "    for i in range(n):\n",
    "        for j in range(i,n):\n",
    "            if edge_matrix[i,j] == 0 and i!=j:\n",
    "                summation_terms[('x'+str(i),'x'+str(j))] = summation_terms.get(('x'+str(i),'x'+str(j)), -4*n)\n",
    "    qubo.maximize(linear= linear_coefficients, quadratic= summation_terms)\n",
    "    #print(qubo.export_as_lp_string())\n",
    "    op, offset = qubo.to_ising()\n",
    "    return op, offset\n",
    "Create_quadratic_program(5, create_edge_matrix(5,0.5))"
   ]
  },
  {
   "cell_type": "code",
   "execution_count": null,
   "metadata": {},
   "outputs": [],
   "source": []
  },
  {
   "cell_type": "code",
   "execution_count": null,
   "metadata": {},
   "outputs": [],
   "source": []
  }
 ]
}