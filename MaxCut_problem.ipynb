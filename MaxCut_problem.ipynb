{
 "metadata": {
  "language_info": {
   "codemirror_mode": {
    "name": "ipython",
    "version": 3
   },
   "file_extension": ".py",
   "mimetype": "text/x-python",
   "name": "python",
   "nbconvert_exporter": "python",
   "pygments_lexer": "ipython3",
   "version": "3.8.5-final"
  },
  "orig_nbformat": 2,
  "kernelspec": {
   "name": "python_defaultSpec_1597645007203",
   "display_name": "Python 3.8.5 64-bit"
  }
 },
 "nbformat": 4,
 "nbformat_minor": 2,
 "cells": [
  {
   "cell_type": "code",
   "execution_count": 1,
   "metadata": {},
   "outputs": [],
   "source": [
    "####### importing all required packages here ##########\n",
    "import numpy as np\n",
    "import random\n",
    "import time\n",
    "import matplotlib.pyplot as plt\n",
    "from qiskit import *\n",
    "from qiskit.optimization.applications.ising import max_cut\n",
    "from qiskit.optimization.converters import IsingToQuadraticProgram\n",
    "from qiskit.optimization.algorithms import MinimumEigenOptimizer\n",
    "from qiskit.aqua.algorithms import VQE, NumPyMinimumEigensolver\n",
    "from qiskit.aqua.components.optimizers import SPSA\n",
    "from qiskit.circuit.library import TwoLocal\n",
    "from qiskit.aqua import QuantumInstance\n",
    "from qiskit.optimization.applications.ising.common import sample_most_likely\n",
    "from qiskit.aqua.algorithms import QAOA"
   ]
  },
  {
   "cell_type": "code",
   "execution_count": 2,
   "metadata": {},
   "outputs": [],
   "source": [
    "###### Fucntion for creating random adjacency matrix. #########\n",
    "\n",
    "def create_adjacency_matrix(number_of_vertices, probability):\n",
    "    adj_matrix = np.ones((number_of_vertices,number_of_vertices))\n",
    "    for i in range(0,number_of_vertices):\n",
    "        for j in range(0,number_of_vertices):\n",
    "            if random.random()>probability:\n",
    "                adj_matrix[i,j]=0\n",
    "\n",
    "    return adj_matrix"
   ]
  },
  {
   "cell_type": "code",
   "execution_count": 3,
   "metadata": {},
   "outputs": [],
   "source": [
    "###### Function for converting binary number to decimal #######\n",
    "\n",
    "def dec_to_bin(decimal, no_bits):\n",
    "    binary = np.zeros((no_bits))\n",
    "    for i in range(no_bits-1,-1,-1):\n",
    "        #print(decimal, i)\n",
    "        if int(decimal/(2**i)):\n",
    "            binary[i]=1\n",
    "        decimal = decimal%(2**i)\n",
    "    \n",
    "    return binary"
   ]
  },
  {
   "cell_type": "code",
   "execution_count": 4,
   "metadata": {
    "tags": []
   },
   "outputs": [],
   "source": [
    "####### Using Brute force ########\n",
    "\n",
    "def brute_force(n, adj_matrix):\n",
    "    best_cost = 0\n",
    "    best_case = None\n",
    "    for k in range(2**n):\n",
    "        binary_k=dec_to_bin(k, n)\n",
    "        temp_cost = 0\n",
    "        for i in range(n):\n",
    "            for j in range(n):\n",
    "                temp_cost = temp_cost + adj_matrix[i,j]*binary_k[i]*(1-binary_k[j])\n",
    "        if temp_cost > best_cost:\n",
    "            best_cost = temp_cost\n",
    "            best_case = binary_k\n",
    "\n",
    "    return best_cost"
   ]
  },
  {
   "cell_type": "code",
   "execution_count": 5,
   "metadata": {
    "tags": []
   },
   "outputs": [],
   "source": [
    "######## function for getting n dependant cost and time using brute force ##########\n",
    "def get_cost_and_time_vs_n(n1, n2):\n",
    "    cost_vs_n = list()\n",
    "    time_vs_n = list()\n",
    "    cost = list()\n",
    "    tim = list()\n",
    "    for j in range(n1,n2):\n",
    "        for i in range(5):\n",
    "            initial_time = time.time()\n",
    "            cost.append(brute_force(j, create_adjacency_matrix(j, 0.5)))\n",
    "            final_time = time.time()\n",
    "            tim.append(final_time - initial_time)\n",
    "        average_cost = sum(cost)/5\n",
    "        average_time = sum(tim)/5 \n",
    "        (x, y) = (j, average_cost)\n",
    "        (x, z) = (j, average_time)\n",
    "        cost_vs_n.append((x, y))\n",
    "        time_vs_n.append((x, z))\n",
    "        print(\"n=\", x, \"cost=\", y, \"time=\", z)\n",
    "        cost.clear()\n",
    "        tim.clear()\n",
    "    return cost_vs_n, time_vs_n"
   ]
  },
  {
   "cell_type": "code",
   "execution_count": 6,
   "metadata": {
    "tags": []
   },
   "outputs": [],
   "source": [
    "######## Function for getting cost using numpyeigensolver ############\n",
    "def using_numpyeigensolver(n, adj_matrix):\n",
    "    qubitop, offset = max_cut.get_operator(adj_matrix)\n",
    "    qudratic = IsingToQuadraticProgram()\n",
    "    qudratic_problem = qudratic.encode(qubitop, offset)\n",
    "    solver = MinimumEigenOptimizer(NumPyMinimumEigensolver())\n",
    "    result = solver.solve(qudratic_problem)\n",
    "    best_cost = float(str(result).split('-')[1])\n",
    "    return best_cost\n"
   ]
  },
  {
   "cell_type": "code",
   "execution_count": 7,
   "metadata": {},
   "outputs": [],
   "source": [
    "########  function for getting n dependant cost and time using Numpyeigensolver #########\n",
    "def get_cost_and_time_numpyeigensolver(n1, n2):\n",
    "    cost_vs_n_fromeigensolver = list()\n",
    "    time_vs_n_fromeigensolver = list()\n",
    "    cost = list()\n",
    "    tim = list()\n",
    "    for j in range(n1,n2):\n",
    "        for i in range(5):\n",
    "            initial_time = time.time()\n",
    "            cost.append(using_numpyeigensolver(j, create_adjacency_matrix(j, 0.5)))\n",
    "            final_time = time.time()\n",
    "            tim.append(final_time - initial_time)\n",
    "        average_cost = sum(cost)/5\n",
    "        average_time = sum(tim)/5 \n",
    "        (x, y) = (j, average_cost)\n",
    "        (x, z) = (j, average_time)\n",
    "        cost_vs_n_fromeigensolver.append((x, y))\n",
    "        time_vs_n_fromeigensolver.append((x, z))\n",
    "        print(\"n=\", x, \"cost=\",  y, \"time=\",  z)\n",
    "        cost.clear()\n",
    "        tim.clear()\n",
    "    return cost_vs_n_fromeigensolver, time_vs_n_fromeigensolver"
   ]
  },
  {
   "cell_type": "code",
   "execution_count": 9,
   "metadata": {
    "tags": []
   },
   "outputs": [
    {
     "output_type": "execute_result",
     "data": {
      "text/plain": "13.0"
     },
     "metadata": {},
     "execution_count": 9
    }
   ],
   "source": [
    "def using_vqe(n, adj_matrix):\n",
    "    qubitop, offset = max_cut.get_operator(adj_matrix)\n",
    "    qudratic = IsingToQuadraticProgram()\n",
    "    qudratic_problem = qudratic.encode(qubitop, offset)\n",
    "    seed = 10598\n",
    "    backend = Aer.get_backend('qasm_simulator')\n",
    "    quantum_instance = QuantumInstance(backend, seed_simulator=seed, seed_transpiler=seed)\n",
    "    spsa = SPSA(max_trials=300)\n",
    "    ry = TwoLocal(qubitop.num_qubits, 'ry', 'cz', reps=5, entanglement='linear')\n",
    "    vqe = VQE(qubitop, ry, spsa, quantum_instance=quantum_instance)\n",
    "    #results = vqe.run(quantum_instance)\n",
    "    #best_time = result.optimizer_time\n",
    "    vqe_optimizer = MinimumEigenOptimizer(vqe)\n",
    "    result = vqe_optimizer.solve(qudratic_problem)\n",
    "    best_cost =float(str(result).split('-')[1])\n",
    "    return best_cost\n",
    "\n",
    "using_vqe(9, create_adjacency_matrix(9, 0.5))"
   ]
  },
  {
   "cell_type": "code",
   "execution_count": null,
   "metadata": {},
   "outputs": [],
   "source": [
    "########  function for getting n dependant cost and time using VQE #########\n",
    "def get_cost_and_time_VQE(n1, n2):\n",
    "    cost_vs_n_fromVQE = list()\n",
    "    time_vs_n_fromVQE = list()\n",
    "    cost = list()\n",
    "    tim = list()\n",
    "    for j in range(n1,n2):\n",
    "        for i in range(5):\n",
    "            initial_time = time.time()\n",
    "            cost.append(using_vqe(j, create_adjacency_matrix(j, 0.5)))\n",
    "            final_time = time.time()\n",
    "            tim.append(final_time - initial_time)\n",
    "        average_cost = sum(cost)/5\n",
    "        average_time = sum(tim)/1500 \n",
    "        (x, y) = (j, average_cost)\n",
    "        (x, z) = (j, average_time)\n",
    "        cost_vs_n_fromVQE.append((x, y))\n",
    "        time_vs_n_fromVQE.append((x, z))\n",
    "        print(\"n=\", x, \"cost=\", y, \"time=\", z)\n",
    "        cost.clear()\n",
    "        tim.clear()\n",
    "    return cost_vs_n_fromVQE, time_vs_n_fromVQE"
   ]
  },
  {
   "cell_type": "code",
   "execution_count": 14,
   "metadata": {
    "tags": []
   },
   "outputs": [
    {
     "output_type": "stream",
     "name": "stdout",
     "text": "-3.8408203125\n{'01100': 1, '11111': 1, '00011': 231, '10010': 17, '10001': 20, '00111': 216, '11100': 219, '01110': 22, '10111': 1, '00100': 1, '00101': 1, '11011': 1, '01101': 19, '00000': 4, '10110': 9, '11000': 217, '01010': 18, '01001': 13, '10101': 13}\n"
    }
   ],
   "source": [
    "def cost_qaoa(n, adj_matrix):\n",
    "    operator, offset = max_cut.get_operator(adj_matrix)\n",
    "    seed = 10598\n",
    "    backend = Aer.get_backend('qasm_simulator')\n",
    "    quantum_instance = QuantumInstance(backend, seed_simulator=seed, seed_transpiler=seed)\n",
    "    spsa = SPSA(max_trials=300)\n",
    "    qaoa_API = QAOA(operator, spsa, p = 4, max_evals_grouped = 1 ,quantum_instance = quantum_instance )\n",
    "    result = qaoa_API.run(quantum_instance)\n",
    "    print(QAOA.get_optimal_cost(qaoa_API)+offset)\n",
    "    print(QAOA.get_optimal_vector(qaoa_API))\n",
    "\n",
    "cost_qaoa(5, create_adjacency_matrix(5, 0.5))"
   ]
  },
  {
   "cell_type": "code",
   "execution_count": null,
   "metadata": {
    "tags": []
   },
   "outputs": [],
   "source": [
    "######## getting cost and time from every method #########\n",
    "\n",
    "print(\"Cost and time using Brute Force\")\n",
    "cost_vs_n, time_vs_n = get_cost_and_time_vs_n(4, 10)\n",
    "\n",
    "print(\"\")\n",
    "\n",
    "print(\"Cost and time using NumpyEigenSolver\")\n",
    "cost_vs_n_fromeigensolver, time_vs_n_fromeigensolver = get_cost_and_time_numpyeigensolver(4, 10)\n",
    "\n",
    "print(\"\")\n",
    "\n",
    "print(\"Cost and time using VQE\")\n",
    "cost_vs_n_fromVQE, time_vs_n_fromVQE = get_cost_and_time_VQE(4, 10)"
   ]
  },
  {
   "cell_type": "code",
   "execution_count": null,
   "metadata": {},
   "outputs": [],
   "source": [
    "#### plotting cost vs n #####\n",
    "plt.title(\"Cost Vs Number of vertices\")\n",
    "plt.ylabel('Cost')\n",
    "plt.xlabel('number of vertices')\n",
    "x, y = zip(*cost_vs_n)\n",
    "plt.plot(x, y, label = 'Brute Force')\n",
    "x, y = zip(*cost_vs_n_fromeigensolver)\n",
    "plt.plot(x, y, label = 'Numpyeigensolver')\n",
    "x, y = zip(*cost_vs_n_fromVQE)\n",
    "plt.plot(x, y, label = 'VQE')\n",
    "plt.legend()\n"
   ]
  },
  {
   "cell_type": "code",
   "execution_count": null,
   "metadata": {},
   "outputs": [],
   "source": [
    "######### Plotting Time Vs n ########\n",
    "plt.title(\"Time Vs Number of vertices\")\n",
    "plt.ylabel('Time')\n",
    "plt.xlabel('number of vertices')\n",
    "x, y = zip(*time_vs_n)\n",
    "plt.plot(x, y, label = 'Brute Force')\n",
    "x, y = zip(*time_vs_n_fromeigensolver)\n",
    "plt.plot(x, y, label = 'Numpyeigensolver')\n",
    "x, y = zip(*time_vs_n_fromVQE)\n",
    "plt.plot(x, y, label = 'VQE')\n",
    "plt.legend()"
   ]
  },
  {
   "cell_type": "code",
   "execution_count": null,
   "metadata": {},
   "outputs": [],
   "source": []
  }
 ]
}